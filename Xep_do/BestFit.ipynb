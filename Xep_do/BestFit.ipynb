{
 "cells": [
  {
   "cell_type": "code",
   "execution_count": 5,
   "id": "4a9ead02",
   "metadata": {
    "scrolled": true
   },
   "outputs": [
    {
     "name": "stdout",
     "output_type": "stream",
     "text": [
      "[[6], [5]]\n",
      "[4, 5]\n",
      "[6, 5]\n",
      "[1, 7, 8, 2, 4, 3]\n",
      "##################\n",
      "[[6, 1], [5]]\n",
      "[3, 5]\n",
      "[7, 5]\n",
      "[7, 8, 2, 4, 3]\n",
      "##################\n",
      "[[6, 1], [5], [7]]\n",
      "[3, 5, 3]\n",
      "[7, 5, 7]\n",
      "[8, 2, 4, 3]\n",
      "##################\n",
      "[[6, 1], [5], [7], [8]]\n",
      "[3, 5, 3, 2]\n",
      "[7, 5, 7, 8]\n",
      "[2, 4, 3]\n",
      "##################\n",
      "[[6, 1], [5], [7], [8, 2]]\n",
      "[3, 5, 3, 0]\n",
      "[7, 5, 7, 10]\n",
      "[4, 3]\n",
      "##################\n",
      "[[6, 1], [5, 4], [7], [8, 2]]\n",
      "[3, 1, 3, 0]\n",
      "[7, 9, 7, 10]\n",
      "[3]\n",
      "##################\n",
      "[[6, 1, 3], [5, 4], [7], [8, 2]]\n",
      "[0, 1, 3, 0]\n",
      "[10, 9, 7, 10]\n",
      "[]\n",
      "##################\n"
     ]
    }
   ],
   "source": [
    "weights = [6,5,1,7,8,2,4,3]\n",
    "max_bin = 10\n",
    "bins = [[weights[0]]]\n",
    "bin_weight = [weights[0]]\n",
    "bin_left = [max_bin - weights[0]]\n",
    "\n",
    "del weights[0]\n",
    "\n",
    "while weights != []:\n",
    "    \n",
    "    if weights[0] > max(bin_left):\n",
    "        bins.append([weights[0]])\n",
    "        bin_weight.append(weights[0])\n",
    "        bin_left.append(max_bin - weights[0])\n",
    "        del weights[0]\n",
    "\n",
    "    else:\n",
    "        min = 10\n",
    "        for j in range (len(bin_left)):\n",
    "            if (bin_left[j] - weights[0] < min and bin_left[j] - weights[0]>=0):\n",
    "                index = j \n",
    "                min = bin_left[j] - weights[0]\n",
    "        bins[index].append(weights[0])\n",
    "        del weights[0]\n",
    "        \n",
    "    for i in range (len(bins)):\n",
    "        bin_weight[i] = sum(bins[i])\n",
    "        bin_left[i] = max_bin - bin_weight[i]\n",
    "\n",
    "            \n",
    "        \n",
    "    print(bins)\n",
    "    print(bin_left)\n",
    "    print(bin_weight)\n",
    "    print(weights)\n",
    "    print(\"##################\")"
   ]
  },
  {
   "cell_type": "code",
   "execution_count": 1,
   "id": "6b4ecec6",
   "metadata": {},
   "outputs": [],
   "source": []
  },
  {
   "cell_type": "code",
   "execution_count": null,
   "id": "d43c77ad",
   "metadata": {},
   "outputs": [],
   "source": []
  }
 ],
 "metadata": {
  "kernelspec": {
   "display_name": "Python 3 (ipykernel)",
   "language": "python",
   "name": "python3"
  },
  "language_info": {
   "codemirror_mode": {
    "name": "ipython",
    "version": 3
   },
   "file_extension": ".py",
   "mimetype": "text/x-python",
   "name": "python",
   "nbconvert_exporter": "python",
   "pygments_lexer": "ipython3",
   "version": "3.9.7"
  }
 },
 "nbformat": 4,
 "nbformat_minor": 5
}
